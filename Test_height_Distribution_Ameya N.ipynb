{
 "cells": [
  {
   "cell_type": "code",
   "execution_count": 36,
   "id": "8bbe7dfd-1a47-49b6-882b-4a9d88dbd46c",
   "metadata": {},
   "outputs": [
    {
     "name": "stdout",
     "output_type": "stream",
     "text": [
      "95% Confidence Interval for boys' height: (5.657, 5.780)\n",
      "Z-score: -1.167\n",
      "P-value: 0.1217\n",
      "Conclusion: Fail to reject H0 ➜ Student likely belongs to boys' distribution.\n",
      "Type-I Error (α): 0.05\n",
      "Type-II Error (β): 0.3219\n"
     ]
    }
   ],
   "source": [
    "# Ameya Nijasure\n",
    "# AICTE ID : 1-2905050722\n",
    "# Determine if a student belongs to boys' or girls' height distribution\n",
    "# Q1 to  Q6 in this tab\n",
    "\n",
    "import numpy as np              #import Libraries\n",
    "import matplotlib.pyplot as plt\n",
    "from scipy import stats\n",
    "\n",
    "np.random.seed(42) # Set seed for reproducibility\n",
    "\n",
    "# genrating random data for 90 boys and 30 girls\n",
    "b_h = np.random.normal(5.75, 0.32, 90)   # B: N(5.75, 0.32), n=90\n",
    "g_h = np.random.normal(5.14, 0.252, 30)  # G: N(5.14, 0.252), n=30\n",
    "\n",
    "#test sample height\n",
    "test_height = 5.4  # Test height of unknown student\n",
    "\n",
    "#Confidence Interval for boys' height distribution\n",
    "confidence = 0.95\n",
    "mean_b = np.mean(b_h)\n",
    "std_b = np.std(b_h, ddof=1)\n",
    "n_b = len(b_h)\n",
    "\n",
    "margin_error = (stats.norm.ppf((1 + confidence) / 2)) * (std_b / np.sqrt(n_b))\n",
    "ci_lower = mean_b - margin_error\n",
    "ci_upper = mean_b + margin_error\n",
    "\n",
    "print(f\"95% Confidence Interval for boys' height: ({ci_lower:.3f}, {ci_upper:.3f})\")\n",
    "\n",
    "#Perform one-tailed Z-test\n",
    "mu = 5.75     # Population mean for boys\n",
    "sigma = 0.3   # Known population std dev\n",
    "x_bar = test_height\n",
    "z_score = (x_bar - mu) / sigma\n",
    "p_value = stats.norm.cdf(z_score)  # Left-tailed test\n",
    "\n",
    "alpha = 0.05\n",
    "\n",
    "print(f\"Z-score: {z_score:.3f}\")\n",
    "print(f\"P-value: {p_value:.4f}\")\n",
    "\n",
    "if p_value < alpha:\n",
    "    print(\"Conclusion: Reject H0 ➜ Student likely belongs to girls' distribution.\")\n",
    "else:\n",
    "    print(\"Conclusion: Fail to reject H0 ➜ Student likely belongs to boys' distribution.\")\n",
    "\n",
    "# Error Analysis\n",
    "# Type-I Error (alpha): Already defined\n",
    "# Type-II Error (beta): Probability a girl is classified as boy\n",
    "\n",
    "z_critical_val = stats.norm.ppf(alpha)  # Left-tailed Z-critical value\n",
    "x_critical = mu + z_critical_val * sigma  # Corresponding height value\n",
    "\n",
    "# Compute beta using girl's distribution: P(X > x_critical | Girl)\n",
    "beta = 1 - stats.norm.cdf((x_critical - 5.14) / 0.252)\n",
    "\n",
    "print(f\"Type-I Error (α): {alpha}\")\n",
    "print(f\"Type-II Error (β): {beta:.4f}\")\n"
   ]
  },
  {
   "cell_type": "code",
   "execution_count": 20,
   "id": "030d0edc-b7b8-40ff-a34e-d873b06a9a7a",
   "metadata": {},
   "outputs": [
    {
     "data": {
      "image/png": "[encoded data removed]",
      "text/plain": [
       "<Figure size 1000x500 with 1 Axes>"
      ]
     },
     "metadata": {},
     "output_type": "display_data"
    }
   ],
   "source": [
    "#Visualize for normal distributions - plot as optional to view normal distribution\n",
    "plt.figure(figsize=(10, 5))\n",
    "plt.hist(b_h, bins=15, alpha=0.7, label='Boys', color='blue')\n",
    "plt.hist(g_h, bins=15, alpha=0.7, label='Girls', color='pink')\n",
    "plt.axvline(test_height, color='green', linestyle='dashed', label='Test Height')\n",
    "plt.title(\"Height Distributions of Boys and Girls\")\n",
    "plt.xlabel(\"Height (ft)\") \n",
    "plt.ylabel(\"Frequency\")\n",
    "plt.legend()\n",
    "plt.grid(True)\n",
    "plt.show()"
   ]
  },
  {
   "cell_type": "code",
   "execution_count": 32,
   "id": "d79f4337-059b-43ee-9cf7-ebf875f36a5b",
   "metadata": {},
   "outputs": [],
   "source": [
    "#Q7 create a fuction that will take n = 10/50/70 and then mean of that to test height\n",
    "\n",
    "import numpy as np\n",
    "import matplotlib.pyplot as plt\n",
    "from scipy.stats import norm\n",
    "\n",
    "def run_ztest(n):\n",
    "    np.random.seed(37)\n",
    "    boys_heights = np.random.normal(5.75, 0.32, 90)\n",
    "    girls_heights = np.random.normal(5.14, 0.252, 30)\n",
    "    \n",
    "    combined_heights = np.concatenate([boys_heights, girls_heights]) #combile hights to one location\n",
    "    \n",
    "    sample = np.random.choice(combined_heights, size=n, replace=False) #randomly generate set of given number n\n",
    "    test_height = np.mean(sample)\n",
    "\n",
    "    print(\"\\n==============================\")\n",
    "    print(f\" Hypothesis Testing for n = {n} Test Samples\")\n",
    "    print(\"==============================\")\n",
    "    print(f\"Random {n}-sample heights:\\n{sample}\")\n",
    "    print(f\"Mean of test sample (test_height): {test_height:.3f} ft\")\n",
    "\n",
    "    mean_boys = np.mean(boys_heights) #mean of boys\n",
    "    std_boys = np.std(boys_heights, ddof=1)\n",
    "    alpha = 0.05\n",
    "    n_boys = len(boys_heights)\n",
    "    z_critical = norm.ppf(1 - alpha/2)\n",
    "\n",
    "    margin_error = z_critical * (std_boys / np.sqrt(n_boys)) #z-test for given data\n",
    "    ci_lower = mean_boys - margin_error\n",
    "    ci_upper = mean_boys + margin_error\n",
    "\n",
    "    print(\"\\n--- Confidence Interval ---\")\n",
    "    print(f\"95% CI for boys' height: ({ci_lower:.3f}, {ci_upper:.3f})\")\n",
    "\n",
    "    mu = 5.75       # Boys' population mean\n",
    "    sigma = 0.3     # Population std deviation (known)\n",
    "    z_score = (test_height - mu) / sigma\n",
    "    p_value = norm.cdf(z_score)  # left-tailed\n",
    "\n",
    "    print(\"\\n---Z-Test ---\")\n",
    "    print(f\"Z-score: {z_score:.3f}\")\n",
    "    print(f\"P-value (left-tailed): {p_value:.4f}\")\n",
    "\n",
    "    if p_value < alpha:\n",
    "        print(\"Conclusion: Reject H0 ➜ Student likely belongs to girls' distribution.\")\n",
    "    else:\n",
    "        print(\"Conclusion: Fail to reject H0 ➜ Student likely belongs to boys' distribution.\")\n",
    "\n",
    "    z_critical_left = norm.ppf(alpha) #error Analysis\n",
    "    x_critical = mu + z_critical_left * sigma\n",
    "\n",
    "    mean_girls = 5.14\n",
    "    std_girls = 0.252\n",
    "    beta = 1 - norm.cdf((x_critical - mean_girls) / std_girls)\n",
    "\n",
    "    print(\"\\n--- Error Analysis ---\")\n",
    "    print(f\"Type-I Error (α): {alpha}\")\n",
    "    print(f\"Type-II Error (β): {beta:.4f}\")\n"
   ]
  },
  {
   "cell_type": "code",
   "execution_count": 33,
   "id": "98926c26-dcf0-4af0-8c02-9cff6a612e1d",
   "metadata": {},
   "outputs": [
    {
     "name": "stdout",
     "output_type": "stream",
     "text": [
      "\n",
      "==============================\n",
      " Hypothesis Testing for n = 10 Test Samples\n",
      "==============================\n",
      "Random 10-sample heights:\n",
      "[5.59582101 5.1932545  5.81157635 5.7469062  5.71545779 5.20073496\n",
      " 5.59310702 5.41082099 5.93205121 5.72972646]\n",
      "Mean of test sample (test_height): 5.593 ft\n",
      "\n",
      "--- Confidence Interval ---\n",
      "95% CI for boys' height: (5.703, 5.839)\n",
      "\n",
      "---Z-Test ---\n",
      "Z-score: -0.524\n",
      "P-value (left-tailed): 0.3003\n",
      "Conclusion: Fail to reject H0 ➜ Student likely belongs to boys' distribution.\n",
      "\n",
      "--- Error Analysis ---\n",
      "Type-I Error (α): 0.05\n",
      "Type-II Error (β): 0.3219\n"
     ]
    }
   ],
   "source": [
    "# Run for n = 10\n",
    "run_ztest(n=10)"
   ]
  },
  {
   "cell_type": "code",
   "execution_count": 34,
   "id": "9b1be84e-cce7-4dc3-90de-aef664334ada",
   "metadata": {},
   "outputs": [
    {
     "name": "stdout",
     "output_type": "stream",
     "text": [
      "\n",
      "==============================\n",
      " Hypothesis Testing for n = 50 Test Samples\n",
      "==============================\n",
      "Random 50-sample heights:\n",
      "[5.59582101 5.1932545  5.81157635 5.7469062  5.71545779 5.20073496\n",
      " 5.59310702 5.41082099 5.93205121 5.72972646 5.86092705 5.62010234\n",
      " 5.88617424 5.02945827 5.38707345 5.33388923 5.78266021 5.1340108\n",
      " 5.03057626 6.23412857 5.92109026 5.90356828 5.13208883 5.60645141\n",
      " 5.12748236 5.01080717 5.48517484 5.35473958 6.01133688 5.50335725\n",
      " 5.46786397 5.9488961  5.24073437 5.6536441  5.73110814 5.31071799\n",
      " 4.93246668 5.72465827 5.44730289 5.55941047 5.64546706 6.09158477\n",
      " 5.40420738 5.33619272 5.31815238 5.54746973 5.79161774 5.87897034\n",
      " 5.42523377 5.19346196]\n",
      "Mean of test sample (test_height): 5.539 ft\n",
      "\n",
      "--- Confidence Interval ---\n",
      "95% CI for boys' height: (5.703, 5.839)\n",
      "\n",
      "---Z-Test ---\n",
      "Z-score: -0.704\n",
      "P-value (left-tailed): 0.2406\n",
      "Conclusion: Fail to reject H0 ➜ Student likely belongs to boys' distribution.\n",
      "\n",
      "--- Error Analysis ---\n",
      "Type-I Error (α): 0.05\n",
      "Type-II Error (β): 0.3219\n"
     ]
    }
   ],
   "source": [
    "# Run for n = 50\n",
    "run_ztest(n=50)"
   ]
  },
  {
   "cell_type": "code",
   "execution_count": 35,
   "id": "dac64564-7cd3-410d-a958-022504953c18",
   "metadata": {},
   "outputs": [
    {
     "name": "stdout",
     "output_type": "stream",
     "text": [
      "\n",
      "==============================\n",
      " Hypothesis Testing for n = 10 Test Samples\n",
      "==============================\n",
      "Random 10-sample heights:\n",
      "[5.59582101 5.1932545  5.81157635 5.7469062  5.71545779 5.20073496\n",
      " 5.59310702 5.41082099 5.93205121 5.72972646]\n",
      "Mean of test sample (test_height): 5.593 ft\n",
      "\n",
      "--- Confidence Interval ---\n",
      "95% CI for boys' height: (5.703, 5.839)\n",
      "\n",
      "---Z-Test ---\n",
      "Z-score: -0.524\n",
      "P-value (left-tailed): 0.3003\n",
      "Conclusion: Fail to reject H0 ➜ Student likely belongs to boys' distribution.\n",
      "\n",
      "--- Error Analysis ---\n",
      "Type-I Error (α): 0.05\n",
      "Type-II Error (β): 0.3219\n"
     ]
    }
   ],
   "source": [
    "# Run for n = 70\n",
    "run_ztest(n=10)"
   ]
  },
  {
   "cell_type": "code",
   "execution_count": null,
   "id": "e8e9deb7-edaf-4a51-a4ba-2c96a1233516",
   "metadata": {},
   "outputs": [],
   "source": []
  }
 ],
 "metadata": {
  "kernelspec": {
   "display_name": "Python 3 (ipykernel)",
   "language": "python",
   "name": "python3"
  },
  "language_info": {
   "codemirror_mode": {
    "name": "ipython",
    "version": 3
   },
   "file_extension": ".py",
   "mimetype": "text/x-python",
   "name": "python",
   "nbconvert_exporter": "python",
   "pygments_lexer": "ipython3",
   "version": "3.13.5"
  }
 },
 "nbformat": 4,
 "nbformat_minor": 5
}
